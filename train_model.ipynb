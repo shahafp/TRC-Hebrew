{
 "cells": [
  {
   "cell_type": "code",
   "execution_count": null,
   "outputs": [
    {
     "name": "stdout",
     "output_type": "stream",
     "text": [
      "device: cpu\n",
      "train: 5679\n",
      "test: 1420\n"
     ]
    },
    {
     "name": "stderr",
     "output_type": "stream",
     "text": [
      "Some weights of the model checkpoint at onlplab/alephbert-base were not used when initializing BertModel: ['cls.predictions.transform.LayerNorm.weight', 'cls.predictions.transform.dense.weight', 'cls.predictions.transform.dense.bias', 'cls.predictions.bias', 'cls.predictions.decoder.weight', 'cls.predictions.decoder.bias', 'cls.predictions.transform.LayerNorm.bias']\n",
      "- This IS expected if you are initializing BertModel from the checkpoint of a model trained on another task or with another architecture (e.g. initializing a BertForSequenceClassification model from a BertForPreTraining model).\n",
      "- This IS NOT expected if you are initializing BertModel from the checkpoint of a model that you expect to be exactly identical (initializing a BertForSequenceClassification model from a BertForSequenceClassification model).\n",
      "Some weights of BertModel were not initialized from the model checkpoint at onlplab/alephbert-base and are newly initialized: ['bert.pooler.dense.weight', 'bert.pooler.dense.bias']\n",
      "You should probably TRAIN this model on a down-stream task to be able to use it for predictions and inference.\n",
      "\n",
      "100%|██████████| 1420/1420 [13:08<00:00,  1.95it/s]\n",
      "  0%|          | 0/1420 [00:00<?, ?it/s]           A"
     ]
    },
    {
     "name": "stdout",
     "output_type": "stream",
     "text": [
      "Epoch [1/10], Step [1420/14200], Train Loss: 1.1264, Valid Loss: 0.9493, precision: 0.61, recall: 0.63, F1: 0.60\n"
     ]
    },
    {
     "name": "stderr",
     "output_type": "stream",
     "text": [
      "100%|██████████| 1420/1420 [13:12<00:00,  2.00it/s]\n",
      "  0%|          | 0/1420 [00:00<?, ?it/s]           A"
     ]
    },
    {
     "name": "stdout",
     "output_type": "stream",
     "text": [
      "Epoch [2/10], Step [2840/14200], Train Loss: 0.7656, Valid Loss: 0.7807, precision: 0.71, recall: 0.72, F1: 0.69\n"
     ]
    },
    {
     "name": "stderr",
     "output_type": "stream",
     "text": [
      "100%|██████████| 1420/1420 [13:16<00:00,  1.91it/s]\n",
      "  0%|          | 0/1420 [00:00<?, ?it/s]           A"
     ]
    },
    {
     "name": "stdout",
     "output_type": "stream",
     "text": [
      "Epoch [3/10], Step [4260/14200], Train Loss: 0.4886, Valid Loss: 0.7100, precision: 0.75, recall: 0.75, F1: 0.75\n"
     ]
    },
    {
     "name": "stderr",
     "output_type": "stream",
     "text": [
      "  2%|▏         | 30/1420 [00:16<13:03,  1.77it/s]"
     ]
    }
   ],
   "source": [
    "import torch\n",
    "from torch.utils.data import DataLoader\n",
    "from torch import optim, nn\n",
    "from transformers import BertTokenizerFast\n",
    "\n",
    "from data_handling.trc_dataset import TRCDataset\n",
    "from model.trc_model import TRCModel\n",
    "from trainer.trainer import Trainer\n",
    "from trainer.training_utils import get_parameters\n",
    "\n",
    "if torch.backends.cuda.is_built():\n",
    "    device_name = 'cuda'\n",
    "\n",
    "else:\n",
    "    device_name = 'cpu'\n",
    "\n",
    "device = torch.device(device_name)\n",
    "print('device:', device)\n",
    "\n",
    "BATCH_SIZE = 4\n",
    "MODEL_CHECKPOINT = 'onlplab/alephbert-base'\n",
    "TRAINING_LAYERS = 52\n",
    "LABELS = ['BEFORE', 'AFTER', 'EQUAL', 'VAGUE']\n",
    "\n",
    "data_paths = {\n",
    "    'train': 'data_handling/split_data/train.csv',\n",
    "    'test': 'data_handling/split_data/test.csv'}\n",
    "\n",
    "tokenizer = BertTokenizerFast.from_pretrained(MODEL_CHECKPOINT)\n",
    "tokenizer.add_tokens(['[א1]', '[/א1]', '[א2]', '[/א2]'])\n",
    "E1_start = tokenizer.convert_tokens_to_ids('[א1]')\n",
    "E2_start = tokenizer.convert_tokens_to_ids('[א2]')\n",
    "\n",
    "train_set = TRCDataset(data_path=data_paths['train'])\n",
    "test_set = TRCDataset(data_path=data_paths['test'])\n",
    "\n",
    "train_loader = DataLoader(train_set, batch_size=BATCH_SIZE, shuffle=True)\n",
    "test_loader = DataLoader(test_set, batch_size=BATCH_SIZE)\n",
    "\n",
    "print(f'train: {len(train_set)}\\ntest: {len(test_set)}')\n",
    "\n",
    "model = TRCModel(output_size=len(LABELS), tokenizer=tokenizer, check_point=MODEL_CHECKPOINT, architecture='SEQ_CLS')\n",
    "\n",
    "trainer = Trainer(model, tokenizer=tokenizer,\n",
    "                  optimizer=optim.Adam(get_parameters(model.named_parameters(), TRAINING_LAYERS), lr=1e-5),\n",
    "                  criterion=nn.CrossEntropyLoss(),\n",
    "                  entity_markers=(E1_start, E2_start),\n",
    "                  labels=LABELS,\n",
    "                  device=device)\n",
    "\n",
    "trainer.train(train_loader=train_loader,\n",
    "              valid_loader=test_loader,\n",
    "              max_epochs=10)\n"
   ],
   "metadata": {
    "collapsed": false,
    "pycharm": {
     "name": "#%%\n",
     "is_executing": true
    }
   }
  },
  {
   "cell_type": "code",
   "execution_count": null,
   "outputs": [],
   "source": [
    "trainer.evaluate(test_loader, print_report=True)"
   ],
   "metadata": {
    "collapsed": false,
    "pycharm": {
     "name": "#%%\n"
    }
   }
  },
  {
   "cell_type": "code",
   "execution_count": null,
   "outputs": [],
   "source": [
    "model = TRCModel(output_size=len(LABELS), tokenizer=tokenizer, check_point=MODEL_CHECKPOINT, architecture='ESS')\n",
    "\n",
    "trainer = Trainer(model, tokenizer=tokenizer,\n",
    "                  optimizer=optim.Adam(get_parameters(model.named_parameters(), TRAINING_LAYERS), lr=1e-5),\n",
    "                  criterion=nn.CrossEntropyLoss(),\n",
    "                  entity_markers=(E1_start, E2_start),\n",
    "                  labels=LABELS,\n",
    "                  device=device)\n",
    "\n",
    "trainer.train(train_loader=train_loader,\n",
    "              valid_loader=test_loader,\n",
    "              max_epochs=10)\n"
   ],
   "metadata": {
    "collapsed": false,
    "pycharm": {
     "name": "#%%\n"
    }
   }
  },
  {
   "cell_type": "code",
   "execution_count": null,
   "outputs": [],
   "source": [
    "trainer.evaluate(test_loader, print_report=True)"
   ],
   "metadata": {
    "collapsed": false,
    "pycharm": {
     "name": "#%%\n"
    }
   }
  },
  {
   "cell_type": "code",
   "execution_count": null,
   "outputs": [],
   "source": [
    "model = TRCModel(output_size=len(LABELS), tokenizer=tokenizer, check_point=MODEL_CHECKPOINT, architecture='EMP')\n",
    "\n",
    "trainer = Trainer(model, tokenizer=tokenizer,\n",
    "                  optimizer=optim.Adam(get_parameters(model.named_parameters(), TRAINING_LAYERS), lr=1e-5),\n",
    "                  criterion=nn.CrossEntropyLoss(),\n",
    "                  entity_markers=(E1_start, E2_start),\n",
    "                  labels=LABELS,\n",
    "                  device=device)\n",
    "\n",
    "trainer.train(train_loader=train_loader,\n",
    "              valid_loader=test_loader,\n",
    "              max_epochs=10)\n"
   ],
   "metadata": {
    "collapsed": false,
    "pycharm": {
     "name": "#%%\n"
    }
   }
  },
  {
   "cell_type": "code",
   "execution_count": null,
   "outputs": [],
   "source": [
    "trainer.evaluate(test_loader, print_report=True)"
   ],
   "metadata": {
    "collapsed": false,
    "pycharm": {
     "name": "#%%\n"
    }
   }
  }
 ],
 "metadata": {
  "kernelspec": {
   "display_name": "Python 3",
   "language": "python",
   "name": "python3"
  },
  "language_info": {
   "codemirror_mode": {
    "name": "ipython",
    "version": 2
   },
   "file_extension": ".py",
   "mimetype": "text/x-python",
   "name": "python",
   "nbconvert_exporter": "python",
   "pygments_lexer": "ipython2",
   "version": "2.7.6"
  }
 },
 "nbformat": 4,
 "nbformat_minor": 0
}